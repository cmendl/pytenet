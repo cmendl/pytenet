{
 "cells": [
  {
   "cell_type": "markdown",
   "metadata": {},
   "source": [
    "# DMRG algorithm"
   ]
  },
  {
   "cell_type": "markdown",
   "metadata": {},
   "source": [
    "This tutorial demonstrates an application of the DMRG algorithm to find the ground state of the Fermi-Hubbard model on a one-dimensional lattice."
   ]
  },
  {
   "cell_type": "code",
   "execution_count": 1,
   "metadata": {},
   "outputs": [],
   "source": [
    "# import NumPy and the PyTeNet package\n",
    "import numpy as np\n",
    "import pytenet as ptn"
   ]
  },
  {
   "cell_type": "markdown",
   "metadata": {},
   "source": [
    "## Construct Fermi-Hubbard Hamiltonian"
   ]
  },
  {
   "cell_type": "code",
   "execution_count": 2,
   "metadata": {},
   "outputs": [],
   "source": [
    "# number of spin-endowed lattice sites (local dimension is 4)\n",
    "nsites = 6\n",
    "\n",
    "# Hamiltonian parameters\n",
    "t  = 1.0\n",
    "u  = 4.0\n",
    "mu = 1.5"
   ]
  },
  {
   "cell_type": "code",
   "execution_count": 3,
   "metadata": {},
   "outputs": [],
   "source": [
    "# construct the Fermi-Hubbard Hamiltonian as matrix product operator (MPO)\n",
    "hamiltonian = ptn.fermi_hubbard_mpo(nsites, t, u, mu)"
   ]
  },
  {
   "cell_type": "code",
   "execution_count": 4,
   "metadata": {},
   "outputs": [
    {
     "data": {
      "text/plain": [
       "[(0, 0), (1, -1), (1, 1), (2, 0)]"
      ]
     },
     "execution_count": 4,
     "metadata": {},
     "output_type": "execute_result"
    }
   ],
   "source": [
    "# local physical quantum numbers (particle number and spin)\n",
    "[ptn.decode_quantum_number_pair(qnum) for qnum in hamiltonian.qd]"
   ]
  },
  {
   "cell_type": "code",
   "execution_count": 5,
   "metadata": {},
   "outputs": [
    {
     "data": {
      "text/plain": [
       "[1, 6, 6, 6, 6, 6, 1]"
      ]
     },
     "execution_count": 5,
     "metadata": {},
     "output_type": "execute_result"
    }
   ],
   "source": [
    "# virtual bond dimensions\n",
    "hamiltonian.bond_dims"
   ]
  },
  {
   "cell_type": "markdown",
   "metadata": {},
   "source": [
    "## Run two-site DMRG"
   ]
  },
  {
   "cell_type": "code",
   "execution_count": 6,
   "metadata": {},
   "outputs": [],
   "source": [
    "# overall quantum number sector of quantum state (particle number and spin)\n",
    "q_pnum = 7\n",
    "q_spin = 1\n",
    "qnum_sector = ptn.encode_quantum_number_pair(q_pnum, q_spin)"
   ]
  },
  {
   "cell_type": "code",
   "execution_count": 7,
   "metadata": {},
   "outputs": [
    {
     "name": "stderr",
     "output_type": "stream",
     "text": [
      "c:\\code\\pytenet\\pytenet\\krylov.py:41: RuntimeWarning: beta[0] ~= 0 encountered during Lanczos iteration.\n",
      "  warnings.warn(\n"
     ]
    },
    {
     "data": {
      "text/plain": [
       "-18.484358904033297"
      ]
     },
     "execution_count": 7,
     "metadata": {},
     "output_type": "execute_result"
    }
   ],
   "source": [
    "# random initial MPS\n",
    "rng = np.random.default_rng(42)\n",
    "psi = ptn.MPS.construct_random(nsites, hamiltonian.qd, qnum_sector, max_vdim=18, dtype='real', rng=rng)\n",
    "\n",
    "# actually run DMRG; 'psi' is updated in-place\n",
    "numsweeps = 4\n",
    "en_sweeps = ptn.dmrg_twosite(hamiltonian, psi, numsweeps, tol_split=1e-8)\n",
    "\n",
    "# value after last iteration\n",
    "e0 = en_sweeps[-1]\n",
    "e0"
   ]
  },
  {
   "cell_type": "code",
   "execution_count": 8,
   "metadata": {},
   "outputs": [
    {
     "data": {
      "text/plain": [
       "[1, 4, 16, 30, 16, 4, 1]"
      ]
     },
     "execution_count": 8,
     "metadata": {},
     "output_type": "execute_result"
    }
   ],
   "source": [
    "psi.bond_dims"
   ]
  },
  {
   "cell_type": "markdown",
   "metadata": {},
   "source": [
    "## Evaluate results and compare with exact diagonalization"
   ]
  },
  {
   "cell_type": "code",
   "execution_count": 9,
   "metadata": {},
   "outputs": [
    {
     "data": {
      "text/plain": [
       "(4096,)"
      ]
     },
     "execution_count": 9,
     "metadata": {},
     "output_type": "execute_result"
    }
   ],
   "source": [
    "# represent 'psi' as vector\n",
    "psi_vec = psi.as_vector()\n",
    "psi_vec.shape"
   ]
  },
  {
   "cell_type": "code",
   "execution_count": 10,
   "metadata": {},
   "outputs": [
    {
     "data": {
      "text/plain": [
       "1.0000000000000002"
      ]
     },
     "execution_count": 10,
     "metadata": {},
     "output_type": "execute_result"
    }
   ],
   "source": [
    "# must be normalized\n",
    "np.linalg.norm(psi_vec)"
   ]
  },
  {
   "cell_type": "code",
   "execution_count": 11,
   "metadata": {},
   "outputs": [
    {
     "data": {
      "text/plain": [
       "array([-18.4843589, -18.4843589, -18.4843589, -18.4843589])"
      ]
     },
     "execution_count": 11,
     "metadata": {},
     "output_type": "execute_result"
    }
   ],
   "source": [
    "# energy after each DMRG sweep\n",
    "en_sweeps"
   ]
  },
  {
   "cell_type": "code",
   "execution_count": 12,
   "metadata": {},
   "outputs": [
    {
     "data": {
      "text/plain": [
       "(4096, 4096)"
      ]
     },
     "execution_count": 12,
     "metadata": {},
     "output_type": "execute_result"
    }
   ],
   "source": [
    "# construct the (dense) matrix representation of the matrix product operator on the full Hilbert space\n",
    "h_mat = hamiltonian.as_matrix()\n",
    "# Hilbert space dimension is 4^nsites\n",
    "h_mat.shape"
   ]
  },
  {
   "cell_type": "code",
   "execution_count": 13,
   "metadata": {},
   "outputs": [
    {
     "data": {
      "text/plain": [
       "1.4210854715202004e-14"
      ]
     },
     "execution_count": 13,
     "metadata": {},
     "output_type": "execute_result"
    }
   ],
   "source": [
    "# check consistency with energy expectation value (difference should be numerically zero):\n",
    "abs(np.vdot(psi_vec, h_mat @ psi_vec) - e0)"
   ]
  },
  {
   "cell_type": "code",
   "execution_count": 14,
   "metadata": {},
   "outputs": [
    {
     "data": {
      "text/plain": [
       "-18.484358962762247"
      ]
     },
     "execution_count": 14,
     "metadata": {},
     "output_type": "execute_result"
    }
   ],
   "source": [
    "# reference eigenvalues (based on exact diagonalization of matrix representation)\n",
    "w_ref = np.linalg.eigvalsh(h_mat)\n",
    "# reference ground state energy\n",
    "w_ref[0]"
   ]
  },
  {
   "cell_type": "code",
   "execution_count": 15,
   "metadata": {},
   "outputs": [
    {
     "data": {
      "text/plain": [
       "array([5.87289257e-08, 5.87289755e-08, 5.87289577e-08, 5.87289506e-08])"
      ]
     },
     "execution_count": 15,
     "metadata": {},
     "output_type": "execute_result"
    }
   ],
   "source": [
    "# difference to reference ground state energy\n",
    "en_sweeps - w_ref[0]"
   ]
  }
 ],
 "metadata": {
  "kernelspec": {
   "display_name": "Python 3",
   "language": "python",
   "name": "python3"
  },
  "language_info": {
   "codemirror_mode": {
    "name": "ipython",
    "version": 3
   },
   "file_extension": ".py",
   "mimetype": "text/x-python",
   "name": "python",
   "nbconvert_exporter": "python",
   "pygments_lexer": "ipython3",
   "version": "3.10.7"
  }
 },
 "nbformat": 4,
 "nbformat_minor": 2
}
